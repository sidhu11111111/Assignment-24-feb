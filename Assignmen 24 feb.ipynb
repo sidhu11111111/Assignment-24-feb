{
 "cells": [
  {
   "cell_type": "markdown",
   "id": "6f5da0ad-4f6f-475a-afbb-e3012da5a8c6",
   "metadata": {},
   "source": [
    "#QNO.1 ANS\n",
    "1.pandas.read_csv(): This function reads a CSV file into a pandas DataFrame"
   ]
  },
  {
   "cell_type": "code",
   "execution_count": 1,
   "id": "3eb2b9d0-e833-4503-91e5-becdc46147f5",
   "metadata": {},
   "outputs": [],
   "source": [
    "import pandas as pd"
   ]
  },
  {
   "cell_type": "code",
   "execution_count": 2,
   "id": "50cf16af-051d-4a9d-a64d-70966964a6cf",
   "metadata": {},
   "outputs": [],
   "source": [
    "df = pd.read_csv('taxonomy.csv')"
   ]
  },
  {
   "cell_type": "code",
   "execution_count": 3,
   "id": "19f881ba-5e74-4f6c-8a74-030b718b0a75",
   "metadata": {},
   "outputs": [
    {
     "data": {
      "text/html": [
       "<div>\n",
       "<style scoped>\n",
       "    .dataframe tbody tr th:only-of-type {\n",
       "        vertical-align: middle;\n",
       "    }\n",
       "\n",
       "    .dataframe tbody tr th {\n",
       "        vertical-align: top;\n",
       "    }\n",
       "\n",
       "    .dataframe thead th {\n",
       "        text-align: right;\n",
       "    }\n",
       "</style>\n",
       "<table border=\"1\" class=\"dataframe\">\n",
       "  <thead>\n",
       "    <tr style=\"text-align: right;\">\n",
       "      <th></th>\n",
       "      <th>taxonomy_id</th>\n",
       "      <th>name</th>\n",
       "      <th>parent_id</th>\n",
       "      <th>parent_name</th>\n",
       "    </tr>\n",
       "  </thead>\n",
       "  <tbody>\n",
       "    <tr>\n",
       "      <th>0</th>\n",
       "      <td>101</td>\n",
       "      <td>Emergency</td>\n",
       "      <td>NaN</td>\n",
       "      <td>NaN</td>\n",
       "    </tr>\n",
       "    <tr>\n",
       "      <th>1</th>\n",
       "      <td>101-01</td>\n",
       "      <td>Disaster Response</td>\n",
       "      <td>101</td>\n",
       "      <td>Emergency</td>\n",
       "    </tr>\n",
       "    <tr>\n",
       "      <th>2</th>\n",
       "      <td>101-02</td>\n",
       "      <td>Emergency Cash</td>\n",
       "      <td>101</td>\n",
       "      <td>Emergency</td>\n",
       "    </tr>\n",
       "    <tr>\n",
       "      <th>3</th>\n",
       "      <td>101-02-01</td>\n",
       "      <td>Help Pay for Food</td>\n",
       "      <td>101-02</td>\n",
       "      <td>Emergency Cash</td>\n",
       "    </tr>\n",
       "    <tr>\n",
       "      <th>4</th>\n",
       "      <td>101-02-02</td>\n",
       "      <td>Help Pay for Healthcare</td>\n",
       "      <td>101-02</td>\n",
       "      <td>Emergency Cash</td>\n",
       "    </tr>\n",
       "  </tbody>\n",
       "</table>\n",
       "</div>"
      ],
      "text/plain": [
       "  taxonomy_id                     name parent_id     parent_name\n",
       "0         101                Emergency       NaN             NaN\n",
       "1      101-01        Disaster Response       101       Emergency\n",
       "2      101-02           Emergency Cash       101       Emergency\n",
       "3   101-02-01        Help Pay for Food    101-02  Emergency Cash\n",
       "4   101-02-02  Help Pay for Healthcare    101-02  Emergency Cash"
      ]
     },
     "execution_count": 3,
     "metadata": {},
     "output_type": "execute_result"
    }
   ],
   "source": [
    "df.head()"
   ]
  },
  {
   "cell_type": "markdown",
   "id": "504f55e3-9f8e-445b-bbda-82afdbdd19b9",
   "metadata": {},
   "source": [
    "2.pandas.DataFrame.dropna(): This function removes all the rows with missing values from a DataFrame"
   ]
  },
  {
   "cell_type": "code",
   "execution_count": 5,
   "id": "df393736-e82a-47fd-8366-c5f964eaaaaf",
   "metadata": {},
   "outputs": [],
   "source": [
    "import pandas as pd"
   ]
  },
  {
   "cell_type": "code",
   "execution_count": 6,
   "id": "cccf6537-1a82-4d5c-bc1e-2cbafb0b3648",
   "metadata": {},
   "outputs": [],
   "source": [
    "df = pd.DataFrame({'A': [1, 2, None, 4], 'B': [5, None, 7, 8]})\n",
    "df =df.dropna()"
   ]
  },
  {
   "cell_type": "code",
   "execution_count": 7,
   "id": "f84fc190-9f3f-4a81-a2cc-0cf621c5d279",
   "metadata": {},
   "outputs": [
    {
     "name": "stdout",
     "output_type": "stream",
     "text": [
      "     A    B\n",
      "0  1.0  5.0\n",
      "3  4.0  8.0\n"
     ]
    }
   ],
   "source": [
    "print(df)"
   ]
  },
  {
   "cell_type": "markdown",
   "id": "cb4b9142-3875-4b36-8a7d-a91929e57f5b",
   "metadata": {},
   "source": [
    "3.pandas.DataFrame.groupby(): This function groups the DataFrame by one or more columns and applies a function to each group"
   ]
  },
  {
   "cell_type": "code",
   "execution_count": 9,
   "id": "89d60b64-7e8f-4522-831e-2bb4f8a545db",
   "metadata": {},
   "outputs": [
    {
     "name": "stdout",
     "output_type": "stream",
     "text": [
      "         Score\n",
      "Name          \n",
      "Alice     92.5\n",
      "Bob       85.0\n",
      "Charlie   75.0\n"
     ]
    }
   ],
   "source": [
    "import pandas as pd\n",
    "df = pd.DataFrame({'Name': ['Alice', 'Bob', 'Charlie', 'Alice', 'Charlie'], 'Score': [90, 85, 70, 95, 80]})\n",
    "\n",
    "grouped = df.groupby('Name').mean()\n",
    "\n",
    "print(grouped)"
   ]
  },
  {
   "cell_type": "markdown",
   "id": "18e07c88-6170-40b2-982f-1bd192a4812b",
   "metadata": {},
   "source": [
    "4.pandas.DataFrame.merge(): This function merges two DataFrames based on a common column."
   ]
  },
  {
   "cell_type": "code",
   "execution_count": 10,
   "id": "3f7edb0c-5a16-4538-aada-2e23b396d068",
   "metadata": {},
   "outputs": [
    {
     "name": "stdout",
     "output_type": "stream",
     "text": [
      "  key  value_x  value_y\n",
      "0   B        2        4\n",
      "1   C        3        5\n"
     ]
    }
   ],
   "source": [
    "import pandas as pd\n",
    "\n",
    "left_df = pd.DataFrame({'key': ['A', 'B', 'C'], 'value': [1, 2, 3]})\n",
    "right_df = pd.DataFrame({'key': ['B', 'C', 'D'], 'value': [4, 5, 6]})\n",
    "\n",
    "merged = pd.merge(left_df, right_df, on='key')\n",
    "\n",
    "print(merged)\n"
   ]
  },
  {
   "cell_type": "markdown",
   "id": "0bf21212-fac8-445e-b61f-c3711fa3231b",
   "metadata": {},
   "source": [
    "5.pandas.DataFrame.to_csv(): This function writes a DataFrame to a CSV file."
   ]
  },
  {
   "cell_type": "code",
   "execution_count": 12,
   "id": "1e218102-a1b1-4194-8f3c-d7604e6738b8",
   "metadata": {},
   "outputs": [
    {
     "name": "stdout",
     "output_type": "stream",
     "text": [
      "      Name  Score\n",
      "0    Rishu     90\n",
      "1    Sidhu     85\n",
      "2  Charlie     70\n"
     ]
    }
   ],
   "source": [
    "import pandas as pd\n",
    "\n",
    "df = pd.DataFrame({'Name': ['Rishu', 'Sidhu', 'Charlie'], 'Score': [90, 85, 70]})\n",
    "\n",
    "df.to_csv('data.csv', index=False)\n",
    "\n",
    "df2 = pd.read_csv('data.csv')\n",
    "\n",
    "print(df2)\n"
   ]
  },
  {
   "cell_type": "markdown",
   "id": "b636851b-6438-4ca3-8c58-244568f6c9e4",
   "metadata": {},
   "source": [
    "#QNO.2 ANS"
   ]
  },
  {
   "cell_type": "code",
   "execution_count": 20,
   "id": "af70b415-9751-4fc1-b10a-25e25e1af6c2",
   "metadata": {},
   "outputs": [],
   "source": [
    "import pandas as pd\n",
    "\n",
    "def reindex_df(df):\n",
    "    num_rows = df.shape[0]\n",
    "    new_index = pd.Index(range(1, num_rows * 2, 2))\n",
    "    df.index = new_index\n",
    "    \n",
    "    return df\n"
   ]
  },
  {
   "cell_type": "code",
   "execution_count": 21,
   "id": "9be21391-b53a-43a5-a80e-49e3b53526c7",
   "metadata": {},
   "outputs": [
    {
     "name": "stdout",
     "output_type": "stream",
     "text": [
      "   A  B  C\n",
      "1  1  4  7\n",
      "3  2  5  8\n",
      "5  3  6  9\n"
     ]
    }
   ],
   "source": [
    "df = pd.DataFrame({'A': [1, 2, 3], 'B': [4, 5, 6], 'C': [7, 8, 9]})\n",
    "df = reindex_df(df)\n",
    "print(df)\n"
   ]
  },
  {
   "cell_type": "markdown",
   "id": "50a3110e-8eaa-44d6-9950-ad7a8ba6f5bd",
   "metadata": {},
   "source": [
    "#QNO.3 ANS"
   ]
  },
  {
   "cell_type": "code",
   "execution_count": 22,
   "id": "eeb04caf-0de0-47ff-aac2-f1fead6d5875",
   "metadata": {},
   "outputs": [],
   "source": [
    "import pandas as pd\n",
    "\n",
    "def calculate_sum(df):\n",
    "    total = 0\n",
    "    \n",
    "    for i in range(3):\n",
    "        \n",
    "        total += df.loc[i, 'Values']\n",
    "        \n",
    "    print('the sum of hte first three values in the \"Values\" column is:',total)    "
   ]
  },
  {
   "cell_type": "code",
   "execution_count": 23,
   "id": "302e82bc-6b0f-46c7-b1ed-6647e68320e0",
   "metadata": {},
   "outputs": [
    {
     "name": "stdout",
     "output_type": "stream",
     "text": [
      "the sum of hte first three values in the \"Values\" column is: 6\n"
     ]
    }
   ],
   "source": [
    "df = pd.DataFrame({'Values':[1,2,3]})\n",
    "calculate_sum(df)"
   ]
  },
  {
   "cell_type": "markdown",
   "id": "4976d74b-b86f-43f7-b03a-4a2b3d354dd3",
   "metadata": {},
   "source": [
    "#QNO.4 ANS"
   ]
  },
  {
   "cell_type": "code",
   "execution_count": 24,
   "id": "f8364729-2fea-42ea-aa18-5334d52b1eda",
   "metadata": {},
   "outputs": [],
   "source": [
    "import pandas as pd\n",
    "def add_word_count_column(df):\n",
    "    \n",
    "    df['Word_Count'] = df['Text'].apply(lambda x: len(x.split()))\n",
    "    return df"
   ]
  },
  {
   "cell_type": "code",
   "execution_count": 25,
   "id": "93c592d1-b9fa-45ed-a2e1-9bef8986ffc4",
   "metadata": {},
   "outputs": [
    {
     "name": "stdout",
     "output_type": "stream",
     "text": [
      "                          Text  Word_Count\n",
      "0  I am learning data science            5\n",
      "1         i am a good learner            5\n"
     ]
    }
   ],
   "source": [
    "df = pd.DataFrame({'Text':['I am learning data science ','i am a good learner ']})\n",
    "df = add_word_count_column(df)\n",
    "print(df)"
   ]
  },
  {
   "cell_type": "markdown",
   "id": "ac1eb72a-09a8-44f4-83e0-037a4c0af916",
   "metadata": {},
   "source": [
    "#QNO.5 ANS"
   ]
  },
  {
   "cell_type": "markdown",
   "id": "47c23512-5c92-4459-a9e6-7f810e1dbb45",
   "metadata": {},
   "source": [
    "DataFrame.size() and DataFrame.shape() are both methods in Pandas DataFrame, but they return different values.\n",
    "\n",
    "DataFrame.shape() returns a tuple of the dimensions of the DataFrame, i.e., the number of rows and columns in the DataFrame, in the form of (number of rows, number of columns). For example, if a DataFrame has 5 rows and 3 columns, the output of DataFrame.shape() would be (5, 3).\n",
    "\n",
    "DataFrame.size() returns the total number of elements in the DataFrame, i.e., the product of the number of rows and the number of columns. For example, if a DataFrame has 5 rows and 3 columns, the output of DataFrame.size() would be 15."
   ]
  },
  {
   "cell_type": "markdown",
   "id": "5441b0c9-d6d0-4995-a2f1-60fec7735dfd",
   "metadata": {},
   "source": [
    "#QNO.6 ANS"
   ]
  },
  {
   "cell_type": "code",
   "execution_count": 27,
   "id": "7d53e30f-03d3-4b1c-baba-b1b4e89fd98f",
   "metadata": {},
   "outputs": [],
   "source": [
    "import pandas as pd\n",
    "\n",
    "df = pd.read_excel('filename.xlsx')"
   ]
  },
  {
   "cell_type": "markdown",
   "id": "a70a07cd-57c5-436e-aba4-2e86c70467d9",
   "metadata": {},
   "source": [
    "#QNO.7 ANS"
   ]
  },
  {
   "cell_type": "code",
   "execution_count": 28,
   "id": "13f7d25c-f639-4319-89b4-f51bfbd8d967",
   "metadata": {},
   "outputs": [],
   "source": [
    "import pandas as pd\n",
    "def extract_username(df):\n",
    "    df['Username'] = df['Email'].apply(lambda x: x.split('@')[0])\n",
    "    return df"
   ]
  },
  {
   "cell_type": "code",
   "execution_count": 29,
   "id": "a78c2cb6-01da-43ea-8450-45b5c14b289a",
   "metadata": {},
   "outputs": [
    {
     "name": "stdout",
     "output_type": "stream",
     "text": [
      "                    Email    Username\n",
      "0    john.doe@example.com    john.doe\n",
      "1    jane.doe@example.com    jane.doe\n",
      "2  joe.bloggs@example.com  joe.bloggs\n"
     ]
    }
   ],
   "source": [
    "df = pd.DataFrame({'Email': ['john.doe@example.com', 'jane.doe@example.com', 'joe.bloggs@example.com']})\n",
    "df = extract_username(df)\n",
    "print(df)\n"
   ]
  },
  {
   "cell_type": "markdown",
   "id": "e07855ad-fa3c-43f1-a0b5-74d82727c192",
   "metadata": {},
   "source": [
    "#QNO.8"
   ]
  },
  {
   "cell_type": "code",
   "execution_count": 34,
   "id": "7ec12e38-a47e-49b6-85ee-191864f121fc",
   "metadata": {},
   "outputs": [],
   "source": [
    "import pandas as pd\n",
    "def selected_rows(df):\n",
    "    selected_rows = df[(df['A']>5)&(df['B']<10)]\n",
    "    return selected_rows"
   ]
  },
  {
   "cell_type": "code",
   "execution_count": 36,
   "id": "cbf8ddff-88a1-4a95-a3dd-2c71a74ac498",
   "metadata": {},
   "outputs": [
    {
     "name": "stdout",
     "output_type": "stream",
     "text": [
      "   A  B  C\n",
      "1  8  2  7\n",
      "2  6  9  4\n",
      "4  9  1  2\n"
     ]
    }
   ],
   "source": [
    "df = pd.DataFrame({'A': [3, 8, 6, 2, 9], 'B': [5, 2, 9, 3, 1], 'C': [1, 7, 4, 5, 2]})\n",
    "selected_df = selected_rows(df)\n",
    "print(selected_df)\n"
   ]
  },
  {
   "cell_type": "markdown",
   "id": "f43fef3d-f728-40d3-acac-41e7637a0c35",
   "metadata": {},
   "source": [
    "#QNO.9 ANS"
   ]
  },
  {
   "cell_type": "code",
   "execution_count": 39,
   "id": "09ec0506-4d3e-471b-a63c-7948a5ccc31b",
   "metadata": {},
   "outputs": [],
   "source": [
    "import pandas as pd\n",
    "def calculate_stats(df):\n",
    "    mean = df['Values'].mean()\n",
    "    median=df['Values'].median()\n",
    "    std_dev = df['Values'].std()\n",
    "    \n",
    "    return mean,median,std_dev"
   ]
  },
  {
   "cell_type": "code",
   "execution_count": 41,
   "id": "3772d4d9-701b-4fe3-9e37-201132c4b09e",
   "metadata": {},
   "outputs": [
    {
     "name": "stdout",
     "output_type": "stream",
     "text": [
      "Mean: 6.0\n",
      "Median: 6.0\n",
      "Stanard deviation: 3.1622776601683795\n"
     ]
    }
   ],
   "source": [
    "df = pd.DataFrame({'Values':[2,4,6,8,10]})\n",
    "mean , median, std_dev = calculate_stats(df)\n",
    "\n",
    "print('Mean:', mean)\n",
    "print('Median:', median)\n",
    "print('Stanard deviation:', std_dev)"
   ]
  },
  {
   "cell_type": "markdown",
   "id": "2d4f1f24-8258-4ebc-810b-0420e1c8a650",
   "metadata": {},
   "source": [
    "#QNO.10"
   ]
  },
  {
   "cell_type": "code",
   "execution_count": 42,
   "id": "43cee7f1-b736-4ef5-95c9-156a3c787ac4",
   "metadata": {},
   "outputs": [],
   "source": [
    "import pandas as pd\n",
    "\n",
    "def add_moving_average(df):\n",
    "    df = df.sort_values('Date')\n",
    "    df['MovingAverage'] = df['Sales'].rolling(window=7, min_periods=1).mean()\n",
    "    return df\n"
   ]
  },
  {
   "cell_type": "code",
   "execution_count": 43,
   "id": "5f0b4ca3-d707-47ad-9164-1bee394cef39",
   "metadata": {},
   "outputs": [
    {
     "name": "stdout",
     "output_type": "stream",
     "text": [
      "        Date  Sales  MovingAverage\n",
      "0 2022-01-01     10           10.0\n",
      "1 2022-01-02     20           15.0\n",
      "2 2022-01-03     30           20.0\n",
      "3 2022-01-04     40           25.0\n",
      "4 2022-01-05     50           30.0\n",
      "5 2022-01-06     60           35.0\n",
      "6 2022-01-07     70           40.0\n",
      "7 2022-01-08     80           50.0\n",
      "8 2022-01-09     90           60.0\n",
      "9 2022-01-10    100           70.0\n"
     ]
    }
   ],
   "source": [
    "df = pd.DataFrame({\n",
    "    'Date': pd.date_range('2022-01-01', periods=10),\n",
    "    'Sales': [10, 20, 30, 40, 50, 60, 70, 80, 90, 100]\n",
    "})\n",
    "\n",
    "df = add_moving_average(df)\n",
    "\n",
    "print(df)\n"
   ]
  },
  {
   "cell_type": "markdown",
   "id": "a51cbb61-7ff4-4b7b-b8c9-55b7cc56c1f3",
   "metadata": {},
   "source": [
    "#QNO.11 ANS"
   ]
  },
  {
   "cell_type": "code",
   "execution_count": 9,
   "id": "aa074590-4fd2-4f14-b985-41eb83b46011",
   "metadata": {},
   "outputs": [],
   "source": [
    "import pandas as pd\n",
    "\n",
    "def add_weekday(df):\n",
    "    df['Date'] = pd.to_datetime(df['Date'])\n",
    "\n",
    "    df['Weekday'] = df['Date'].dt.strftime('%A')\n",
    "\n",
    "    return df\n"
   ]
  },
  {
   "cell_type": "code",
   "execution_count": 10,
   "id": "17a59c15-52e5-4b8d-b1c0-40f50c3d3ef3",
   "metadata": {},
   "outputs": [
    {
     "name": "stdout",
     "output_type": "stream",
     "text": [
      "        Date    Weekday\n",
      "0 2023-01-01     Sunday\n",
      "1 2023-01-02     Monday\n",
      "2 2023-01-03    Tuesday\n",
      "3 2023-01-04  Wednesday\n",
      "4 2023-01-05   Thursday\n"
     ]
    }
   ],
   "source": [
    "df = pd.DataFrame({'Date': ['2023-01-01', '2023-01-02', '2023-01-03', '2023-01-04', '2023-01-05']})\n",
    "df = add_weekday(df)\n",
    "print(df)\n"
   ]
  },
  {
   "cell_type": "markdown",
   "id": "56b71f60-93e5-484b-a678-2b0ade4c7bf7",
   "metadata": {},
   "source": [
    "#QNO.12 ANS"
   ]
  },
  {
   "cell_type": "code",
   "execution_count": 13,
   "id": "27df853e-80bb-44c3-8734-5d8d07a49c2a",
   "metadata": {},
   "outputs": [],
   "source": [
    "import pandas as pd\n",
    "\n",
    "def select_january_rows(df):\n",
    "    df['Date'] = pd.to_datetime(df['Date'])\n",
    "    start_date = pd.to_datetime('2023-01-01')\n",
    "    end_date = pd.to_datetime('2023-01-31')\n",
    "    mask = (df['Date'] >= start_date) & (df['Date'] <= end_date)\n",
    "    selected_rows = df.loc[mask]\n",
    "    return selected_rows\n"
   ]
  },
  {
   "cell_type": "code",
   "execution_count": 14,
   "id": "7e75e1e3-5336-400e-a0ee-44c0c3200977",
   "metadata": {},
   "outputs": [
    {
     "name": "stdout",
     "output_type": "stream",
     "text": [
      "        Date\n",
      "0 2023-01-01\n",
      "1 2023-01-02\n",
      "2 2023-01-03\n"
     ]
    }
   ],
   "source": [
    "df = pd.DataFrame({'Date': ['2023-01-01', '2023-01-02', '2023-01-03', '2023-02-01', '2023-02-02']})\n",
    "selected_df = select_january_rows(df)\n",
    "print(selected_df)\n"
   ]
  },
  {
   "cell_type": "markdown",
   "id": "99156da2-8d6a-4a9a-a90b-0201b1b9e531",
   "metadata": {},
   "source": [
    "#QNO.13"
   ]
  },
  {
   "cell_type": "code",
   "execution_count": 15,
   "id": "da48954c-dec5-4bca-a913-6637b1f94a0b",
   "metadata": {},
   "outputs": [
    {
     "name": "stdout",
     "output_type": "stream",
     "text": [
      "   Column1 Column2\n",
      "0        1       A\n",
      "1        2       B\n",
      "2        3       C\n"
     ]
    }
   ],
   "source": [
    "df = pd.DataFrame({'Column1': [1, 2, 3], 'Column2': ['A', 'B', 'C']})\n",
    "print(df)\n"
   ]
  }
 ],
 "metadata": {
  "kernelspec": {
   "display_name": "Python 3 (ipykernel)",
   "language": "python",
   "name": "python3"
  },
  "language_info": {
   "codemirror_mode": {
    "name": "ipython",
    "version": 3
   },
   "file_extension": ".py",
   "mimetype": "text/x-python",
   "name": "python",
   "nbconvert_exporter": "python",
   "pygments_lexer": "ipython3",
   "version": "3.10.8"
  }
 },
 "nbformat": 4,
 "nbformat_minor": 5
}
